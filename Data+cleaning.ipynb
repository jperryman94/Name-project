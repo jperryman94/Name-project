{
 "cells": [
  {
   "cell_type": "code",
   "execution_count": 1,
   "metadata": {
    "collapsed": true
   },
   "outputs": [],
   "source": [
    "import numpy as np\n",
    "import pandas as pd\n",
    "import matplotlib.pyplot as plt\n",
    "import seaborn as sns\n",
    "import random\n",
    "import jellyfish\n",
    "%matplotlib inline"
   ]
  },
  {
   "cell_type": "code",
   "execution_count": 2,
   "metadata": {
    "collapsed": true
   },
   "outputs": [],
   "source": [
    "names = [\"fsid\", \"Full1\"] + ['Source{}'.format(x) for x in range(1,21)]\n",
    "df = pd.read_csv('/Users/jperryman/Desktop/BYU/Python/api_scrape.csv', names=names)"
   ]
  },
  {
   "cell_type": "code",
   "execution_count": 3,
   "metadata": {
    "scrolled": true
   },
   "outputs": [],
   "source": [
    "#df.head()"
   ]
  },
  {
   "cell_type": "code",
   "execution_count": 4,
   "metadata": {},
   "outputs": [],
   "source": [
    "#print(df.Source1)"
   ]
  },
  {
   "cell_type": "code",
   "execution_count": 5,
   "metadata": {
    "collapsed": true
   },
   "outputs": [],
   "source": [
    "df.Source1 = df.Source1.str.replace('( in[\\s\\S]+)',\"\")"
   ]
  },
  {
   "cell_type": "code",
   "execution_count": 6,
   "metadata": {},
   "outputs": [],
   "source": [
    "#print(df.Source1)"
   ]
  },
  {
   "cell_type": "code",
   "execution_count": 7,
   "metadata": {
    "collapsed": true
   },
   "outputs": [],
   "source": [
    "df.Source1 = df.Source1.str.extract('([A-Z][ \\w]+)',expand = False)"
   ]
  },
  {
   "cell_type": "code",
   "execution_count": 8,
   "metadata": {},
   "outputs": [],
   "source": [
    "#print(df.Source3)"
   ]
  },
  {
   "cell_type": "code",
   "execution_count": 9,
   "metadata": {},
   "outputs": [],
   "source": [
    "for x in ['Source{}'.format(x) for x in range(1,21)]:\n",
    "    df[x] = df[x].str.replace('( in[\\s\\S]+)',\"\")\n",
    "    df[x] = df[x].str.replace('Legacy NFS Source: ',\"\")\n",
    "    df[x] = df[x].str.replace('[Ff]ind [Aa] [Gg]rave',\"\")\n",
    "    df[x] = df[x].str.replace(\"\\d\",\"\")\n",
    "    df[x] = df[x].str.replace(\"\\.\",\"\")\n",
    "    df[x] = df[x].str.replace('([Tt]he )?United States (Federal )?Census',\"\")\n",
    "    df[x] = df[x].str.replace('( the )',\"\")\n",
    "    df[x] = df[x].str.extract('([A-Z][\\w ]+)',expand = False)"
   ]
  },
  {
   "cell_type": "code",
   "execution_count": 10,
   "metadata": {},
   "outputs": [],
   "source": [
    "#df.head()"
   ]
  },
  {
   "cell_type": "code",
   "execution_count": 11,
   "metadata": {
    "collapsed": true
   },
   "outputs": [],
   "source": [
    "df = df.set_index(['fsid', 'Full1'])\n",
    "df = df.stack().reset_index()"
   ]
  },
  {
   "cell_type": "code",
   "execution_count": 12,
   "metadata": {},
   "outputs": [],
   "source": [
    "#df.head(50)"
   ]
  },
  {
   "cell_type": "code",
   "execution_count": 13,
   "metadata": {},
   "outputs": [],
   "source": [
    "for x in ['Full1'.format(x)]:\n",
    "    df[x] = df[x].str.replace('\\\"',\"\")\n",
    "    df[x] = df[x].str.replace('( [Jj]r)',\"\")\n",
    "    df[x] = df[x].str.replace('\\.',\"\")"
   ]
  },
  {
   "cell_type": "code",
   "execution_count": 14,
   "metadata": {},
   "outputs": [],
   "source": [
    "del df['level_2']"
   ]
  },
  {
   "cell_type": "code",
   "execution_count": 15,
   "metadata": {},
   "outputs": [],
   "source": [
    "#df.head()"
   ]
  },
  {
   "cell_type": "code",
   "execution_count": 16,
   "metadata": {},
   "outputs": [],
   "source": [
    "df.columns = ['fsid', 'Full1', 'Full2']"
   ]
  },
  {
   "cell_type": "code",
   "execution_count": 17,
   "metadata": {},
   "outputs": [],
   "source": [
    "#df.head(50)"
   ]
  },
  {
   "cell_type": "code",
   "execution_count": 18,
   "metadata": {},
   "outputs": [],
   "source": [
    "df['score'] = df.apply(lambda row: jellyfish.jaro_distance(row['Full1'], row['Full2']), axis=1)"
   ]
  },
  {
   "cell_type": "code",
   "execution_count": 19,
   "metadata": {},
   "outputs": [],
   "source": [
    "#df.head(50)"
   ]
  },
  {
   "cell_type": "code",
   "execution_count": 20,
   "metadata": {},
   "outputs": [],
   "source": [
    "df = df[df.score != 1]\n",
    "df = df[df.score >= .55]"
   ]
  },
  {
   "cell_type": "code",
   "execution_count": 21,
   "metadata": {},
   "outputs": [],
   "source": [
    "#df.head(50)"
   ]
  },
  {
   "cell_type": "code",
   "execution_count": 22,
   "metadata": {},
   "outputs": [],
   "source": [
    "del df['score']\n",
    "df['First1'] = df.Full1\n",
    "df['Mid1'] = df.Full1\n",
    "df['Last1'] = df.Full1\n",
    "df['First2'] = df.Full2\n",
    "df['Mid2'] = df.Full2\n",
    "df['Last2'] = df.Full2"
   ]
  },
  {
   "cell_type": "code",
   "execution_count": 23,
   "metadata": {},
   "outputs": [
    {
     "data": {
      "text/plain": [
       "['fsid',\n",
       " 'Full1',\n",
       " 'First1',\n",
       " 'Mid1',\n",
       " 'Last1',\n",
       " 'Full2',\n",
       " 'First2',\n",
       " 'Mid2',\n",
       " 'Last2']"
      ]
     },
     "execution_count": 23,
     "metadata": {},
     "output_type": "execute_result"
    }
   ],
   "source": [
    "cols = list(df)\n",
    "cols.insert(5, cols.pop(cols.index('Full2')))\n",
    "cols"
   ]
  },
  {
   "cell_type": "code",
   "execution_count": 24,
   "metadata": {},
   "outputs": [],
   "source": [
    "df = df.loc[:, cols]"
   ]
  },
  {
   "cell_type": "code",
   "execution_count": 25,
   "metadata": {},
   "outputs": [],
   "source": [
    "#df.head(50)"
   ]
  },
  {
   "cell_type": "code",
   "execution_count": 26,
   "metadata": {},
   "outputs": [],
   "source": [
    "for x in ['First1'.format(x)]:\n",
    "    df[x] = df[x].str.replace('( )\\w+',\"\")"
   ]
  },
  {
   "cell_type": "code",
   "execution_count": 27,
   "metadata": {},
   "outputs": [],
   "source": [
    "#df.head(50)"
   ]
  },
  {
   "cell_type": "code",
   "execution_count": 28,
   "metadata": {},
   "outputs": [],
   "source": [
    "for x in ['Mid1'.format(x)]:\n",
    "    df[x] = df[x].str.replace('(\\w+$)',\"\")\n",
    "    df[x] = df[x].str.replace('(^\\w+)',\"\")"
   ]
  },
  {
   "cell_type": "code",
   "execution_count": 29,
   "metadata": {
    "collapsed": true
   },
   "outputs": [],
   "source": [
    "for x in ['Last1'.format(x)]:\n",
    "    df[x] = df[x].str.replace('\\w+( )',\"\")"
   ]
  },
  {
   "cell_type": "code",
   "execution_count": 30,
   "metadata": {},
   "outputs": [],
   "source": [
    "#NAME 1 complete\n",
    "#df.head(50)"
   ]
  },
  {
   "cell_type": "code",
   "execution_count": 31,
   "metadata": {},
   "outputs": [],
   "source": [
    "for x in ['First2'.format(x)]:\n",
    "    df[x] = df[x].str.replace('( )\\w+',\"\")"
   ]
  },
  {
   "cell_type": "code",
   "execution_count": 32,
   "metadata": {},
   "outputs": [],
   "source": [
    "for x in ['Mid2'.format(x)]:\n",
    "    df[x] = df[x].str.replace('(\\w+$)',\"\")\n",
    "    df[x] = df[x].str.replace('(^\\w+)',\"\")"
   ]
  },
  {
   "cell_type": "code",
   "execution_count": 33,
   "metadata": {
    "collapsed": true
   },
   "outputs": [],
   "source": [
    "for x in ['Last2'.format(x)]:\n",
    "    df[x] = df[x].str.replace('\\w+( )',\"\")"
   ]
  },
  {
   "cell_type": "code",
   "execution_count": 34,
   "metadata": {},
   "outputs": [],
   "source": [
    "#df.head(50)"
   ]
  },
  {
   "cell_type": "code",
   "execution_count": 35,
   "metadata": {
    "collapsed": true
   },
   "outputs": [],
   "source": [
    "#df['score'] = df.apply(lambda row: jellyfish.jaro_distance(row['Mid1'], row['Mid2']), axis=1)"
   ]
  },
  {
   "cell_type": "code",
   "execution_count": 36,
   "metadata": {},
   "outputs": [
    {
     "data": {
      "text/html": [
       "<div>\n",
       "<style>\n",
       "    .dataframe thead tr:only-child th {\n",
       "        text-align: right;\n",
       "    }\n",
       "\n",
       "    .dataframe thead th {\n",
       "        text-align: left;\n",
       "    }\n",
       "\n",
       "    .dataframe tbody tr th {\n",
       "        vertical-align: top;\n",
       "    }\n",
       "</style>\n",
       "<table border=\"1\" class=\"dataframe\">\n",
       "  <thead>\n",
       "    <tr style=\"text-align: right;\">\n",
       "      <th></th>\n",
       "      <th>fsid</th>\n",
       "      <th>Full1</th>\n",
       "      <th>First1</th>\n",
       "      <th>Mid1</th>\n",
       "      <th>Last1</th>\n",
       "      <th>Full2</th>\n",
       "      <th>First2</th>\n",
       "      <th>Mid2</th>\n",
       "      <th>Last2</th>\n",
       "    </tr>\n",
       "  </thead>\n",
       "  <tbody>\n",
       "    <tr>\n",
       "      <th>0</th>\n",
       "      <td>LDBJ-136</td>\n",
       "      <td>Catherine Kate Englehart</td>\n",
       "      <td>Catherine</td>\n",
       "      <td>Kate</td>\n",
       "      <td>Englehart</td>\n",
       "      <td>Catharine Englehart</td>\n",
       "      <td>Catharine</td>\n",
       "      <td></td>\n",
       "      <td>Englehart</td>\n",
       "    </tr>\n",
       "    <tr>\n",
       "      <th>1</th>\n",
       "      <td>LDBJ-136</td>\n",
       "      <td>Catherine Kate Englehart</td>\n",
       "      <td>Catherine</td>\n",
       "      <td>Kate</td>\n",
       "      <td>Englehart</td>\n",
       "      <td>Katie Englehart</td>\n",
       "      <td>Katie</td>\n",
       "      <td></td>\n",
       "      <td>Englehart</td>\n",
       "    </tr>\n",
       "    <tr>\n",
       "      <th>2</th>\n",
       "      <td>LDBJ-136</td>\n",
       "      <td>Catherine Kate Englehart</td>\n",
       "      <td>Catherine</td>\n",
       "      <td>Kate</td>\n",
       "      <td>Englehart</td>\n",
       "      <td>Kate Wagner</td>\n",
       "      <td>Kate</td>\n",
       "      <td></td>\n",
       "      <td>Wagner</td>\n",
       "    </tr>\n",
       "    <tr>\n",
       "      <th>3</th>\n",
       "      <td>LR4C-C64</td>\n",
       "      <td>Philip Ely Fuller</td>\n",
       "      <td>Philip</td>\n",
       "      <td>Ely</td>\n",
       "      <td>Fuller</td>\n",
       "      <td>Philip E Fuller</td>\n",
       "      <td>Philip</td>\n",
       "      <td>E</td>\n",
       "      <td>Fuller</td>\n",
       "    </tr>\n",
       "    <tr>\n",
       "      <th>4</th>\n",
       "      <td>LR4C-C64</td>\n",
       "      <td>Philip Ely Fuller</td>\n",
       "      <td>Philip</td>\n",
       "      <td>Ely</td>\n",
       "      <td>Fuller</td>\n",
       "      <td>Phillip E Fuller</td>\n",
       "      <td>Phillip</td>\n",
       "      <td>E</td>\n",
       "      <td>Fuller</td>\n",
       "    </tr>\n",
       "  </tbody>\n",
       "</table>\n",
       "</div>"
      ],
      "text/plain": [
       "       fsid                     Full1     First1    Mid1      Last1  \\\n",
       "0  LDBJ-136  Catherine Kate Englehart  Catherine   Kate   Englehart   \n",
       "1  LDBJ-136  Catherine Kate Englehart  Catherine   Kate   Englehart   \n",
       "2  LDBJ-136  Catherine Kate Englehart  Catherine   Kate   Englehart   \n",
       "3  LR4C-C64         Philip Ely Fuller     Philip    Ely      Fuller   \n",
       "4  LR4C-C64         Philip Ely Fuller     Philip    Ely      Fuller   \n",
       "\n",
       "                 Full2     First2 Mid2      Last2  \n",
       "0  Catharine Englehart  Catharine       Englehart  \n",
       "1      Katie Englehart      Katie       Englehart  \n",
       "2          Kate Wagner       Kate          Wagner  \n",
       "3      Philip E Fuller     Philip   E      Fuller  \n",
       "4     Phillip E Fuller    Phillip   E      Fuller  "
      ]
     },
     "execution_count": 36,
     "metadata": {},
     "output_type": "execute_result"
    }
   ],
   "source": [
    "df.head()"
   ]
  },
  {
   "cell_type": "code",
   "execution_count": 37,
   "metadata": {
    "collapsed": true
   },
   "outputs": [],
   "source": [
    "df['match'] = 1"
   ]
  },
  {
   "cell_type": "code",
   "execution_count": 38,
   "metadata": {},
   "outputs": [
    {
     "data": {
      "text/html": [
       "<div>\n",
       "<style>\n",
       "    .dataframe thead tr:only-child th {\n",
       "        text-align: right;\n",
       "    }\n",
       "\n",
       "    .dataframe thead th {\n",
       "        text-align: left;\n",
       "    }\n",
       "\n",
       "    .dataframe tbody tr th {\n",
       "        vertical-align: top;\n",
       "    }\n",
       "</style>\n",
       "<table border=\"1\" class=\"dataframe\">\n",
       "  <thead>\n",
       "    <tr style=\"text-align: right;\">\n",
       "      <th></th>\n",
       "      <th>fsid</th>\n",
       "      <th>Full1</th>\n",
       "      <th>First1</th>\n",
       "      <th>Mid1</th>\n",
       "      <th>Last1</th>\n",
       "      <th>Full2</th>\n",
       "      <th>First2</th>\n",
       "      <th>Mid2</th>\n",
       "      <th>Last2</th>\n",
       "      <th>match</th>\n",
       "    </tr>\n",
       "  </thead>\n",
       "  <tbody>\n",
       "    <tr>\n",
       "      <th>0</th>\n",
       "      <td>LDBJ-136</td>\n",
       "      <td>Catherine Kate Englehart</td>\n",
       "      <td>Catherine</td>\n",
       "      <td>Kate</td>\n",
       "      <td>Englehart</td>\n",
       "      <td>Catharine Englehart</td>\n",
       "      <td>Catharine</td>\n",
       "      <td></td>\n",
       "      <td>Englehart</td>\n",
       "      <td>1</td>\n",
       "    </tr>\n",
       "    <tr>\n",
       "      <th>1</th>\n",
       "      <td>LDBJ-136</td>\n",
       "      <td>Catherine Kate Englehart</td>\n",
       "      <td>Catherine</td>\n",
       "      <td>Kate</td>\n",
       "      <td>Englehart</td>\n",
       "      <td>Katie Englehart</td>\n",
       "      <td>Katie</td>\n",
       "      <td></td>\n",
       "      <td>Englehart</td>\n",
       "      <td>1</td>\n",
       "    </tr>\n",
       "    <tr>\n",
       "      <th>2</th>\n",
       "      <td>LDBJ-136</td>\n",
       "      <td>Catherine Kate Englehart</td>\n",
       "      <td>Catherine</td>\n",
       "      <td>Kate</td>\n",
       "      <td>Englehart</td>\n",
       "      <td>Kate Wagner</td>\n",
       "      <td>Kate</td>\n",
       "      <td></td>\n",
       "      <td>Wagner</td>\n",
       "      <td>1</td>\n",
       "    </tr>\n",
       "    <tr>\n",
       "      <th>3</th>\n",
       "      <td>LR4C-C64</td>\n",
       "      <td>Philip Ely Fuller</td>\n",
       "      <td>Philip</td>\n",
       "      <td>Ely</td>\n",
       "      <td>Fuller</td>\n",
       "      <td>Philip E Fuller</td>\n",
       "      <td>Philip</td>\n",
       "      <td>E</td>\n",
       "      <td>Fuller</td>\n",
       "      <td>1</td>\n",
       "    </tr>\n",
       "    <tr>\n",
       "      <th>4</th>\n",
       "      <td>LR4C-C64</td>\n",
       "      <td>Philip Ely Fuller</td>\n",
       "      <td>Philip</td>\n",
       "      <td>Ely</td>\n",
       "      <td>Fuller</td>\n",
       "      <td>Phillip E Fuller</td>\n",
       "      <td>Phillip</td>\n",
       "      <td>E</td>\n",
       "      <td>Fuller</td>\n",
       "      <td>1</td>\n",
       "    </tr>\n",
       "  </tbody>\n",
       "</table>\n",
       "</div>"
      ],
      "text/plain": [
       "       fsid                     Full1     First1    Mid1      Last1  \\\n",
       "0  LDBJ-136  Catherine Kate Englehart  Catherine   Kate   Englehart   \n",
       "1  LDBJ-136  Catherine Kate Englehart  Catherine   Kate   Englehart   \n",
       "2  LDBJ-136  Catherine Kate Englehart  Catherine   Kate   Englehart   \n",
       "3  LR4C-C64         Philip Ely Fuller     Philip    Ely      Fuller   \n",
       "4  LR4C-C64         Philip Ely Fuller     Philip    Ely      Fuller   \n",
       "\n",
       "                 Full2     First2 Mid2      Last2  match  \n",
       "0  Catharine Englehart  Catharine       Englehart      1  \n",
       "1      Katie Englehart      Katie       Englehart      1  \n",
       "2          Kate Wagner       Kate          Wagner      1  \n",
       "3      Philip E Fuller     Philip   E      Fuller      1  \n",
       "4     Phillip E Fuller    Phillip   E      Fuller      1  "
      ]
     },
     "execution_count": 38,
     "metadata": {},
     "output_type": "execute_result"
    }
   ],
   "source": [
    "df.head()"
   ]
  },
  {
   "cell_type": "code",
   "execution_count": null,
   "metadata": {
    "collapsed": true
   },
   "outputs": [],
   "source": []
  },
  {
   "cell_type": "code",
   "execution_count": null,
   "metadata": {
    "collapsed": true
   },
   "outputs": [],
   "source": []
  }
 ],
 "metadata": {
  "kernelspec": {
   "display_name": "Python 3",
   "language": "python",
   "name": "python3"
  },
  "language_info": {
   "codemirror_mode": {
    "name": "ipython",
    "version": 3
   },
   "file_extension": ".py",
   "mimetype": "text/x-python",
   "name": "python",
   "nbconvert_exporter": "python",
   "pygments_lexer": "ipython3",
   "version": "3.6.3"
  }
 },
 "nbformat": 4,
 "nbformat_minor": 2
}
